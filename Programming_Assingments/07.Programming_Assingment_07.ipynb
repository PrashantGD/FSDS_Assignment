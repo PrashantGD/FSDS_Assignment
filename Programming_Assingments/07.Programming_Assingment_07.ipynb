{
 "cells": [
  {
   "cell_type": "markdown",
   "id": "3dfc57f6",
   "metadata": {},
   "source": [
    "#### 1.\tWrite a Python Program to find sum of array?"
   ]
  },
  {
   "cell_type": "markdown",
   "id": "02ea00f9",
   "metadata": {},
   "source": [
    "**Ans:**"
   ]
  },
  {
   "cell_type": "code",
   "execution_count": 48,
   "id": "df81a977",
   "metadata": {},
   "outputs": [],
   "source": [
    "def sumofaraay():\n",
    "    sum = 0\n",
    "    arr = eval(input(\"Enter the Array: \"))\n",
    "    for i in range(0,len(arr)):\n",
    "        sum+=arr[i]\n",
    "    print(\"Sum : \",sum)"
   ]
  },
  {
   "cell_type": "code",
   "execution_count": 49,
   "id": "b1457528",
   "metadata": {},
   "outputs": [
    {
     "name": "stdout",
     "output_type": "stream",
     "text": [
      "Enter the Array: [1,2,3,4,5,6]\n",
      "Sum :  21\n"
     ]
    }
   ],
   "source": [
    "sumofaraay()"
   ]
  },
  {
   "cell_type": "markdown",
   "id": "967274ad",
   "metadata": {},
   "source": [
    "#### 2.\tWrite a Python Program to find largest element in an array?"
   ]
  },
  {
   "cell_type": "markdown",
   "id": "89717949",
   "metadata": {},
   "source": [
    "**Ans:**"
   ]
  },
  {
   "cell_type": "code",
   "execution_count": 60,
   "id": "defe59d0",
   "metadata": {},
   "outputs": [],
   "source": [
    "def laargestElem():\n",
    "    ary_1 = eval(input(\"Enter the array : \"))\n",
    "    max = ary_1[0]\n",
    "    for i in range(0,len(ary_1)):\n",
    "        if ary_1[i] > max :\n",
    "            max = ary_1[i]\n",
    "    print(\"max : \",max)"
   ]
  },
  {
   "cell_type": "code",
   "execution_count": 61,
   "id": "b29ea273",
   "metadata": {},
   "outputs": [
    {
     "name": "stdout",
     "output_type": "stream",
     "text": [
      "Enter the array : [1,2,3,47,987,5445,356]\n",
      "max :  5445\n"
     ]
    }
   ],
   "source": [
    "laargestElem()"
   ]
  },
  {
   "cell_type": "markdown",
   "id": "6d5d691a",
   "metadata": {},
   "source": [
    "#### 3.\tWrite a Python Program for array rotation?"
   ]
  },
  {
   "cell_type": "markdown",
   "id": "1b9f7846",
   "metadata": {},
   "source": [
    "**Ans:**"
   ]
  },
  {
   "cell_type": "code",
   "execution_count": 63,
   "id": "d1f6289d",
   "metadata": {},
   "outputs": [
    {
     "name": "stdout",
     "output_type": "stream",
     "text": [
      "Enter the Array: [45,6,7,45,67,8,8989,65,64]\n",
      "The Reverse of Array [45, 6, 7, 45, 67, 8, 8989, 65, 64] is [64, 65, 8989, 8, 67, 45, 7, 6, 45]\n"
     ]
    }
   ],
   "source": [
    "def reverseOfArray():\n",
    "    in_arr = eval(input(\"Enter the Array: \"))\n",
    "    print(f\"The Reverse of Array {in_arr} is {in_arr[::-1]}\")\n",
    "    \n",
    "reverseOfArray()"
   ]
  },
  {
   "cell_type": "markdown",
   "id": "ab4be15a",
   "metadata": {},
   "source": [
    "#### 4.\tWrite a Python Program to Split the array and add the first part to the end?"
   ]
  },
  {
   "cell_type": "markdown",
   "id": "33b9bfe6",
   "metadata": {},
   "source": [
    "**Ans:**"
   ]
  },
  {
   "cell_type": "code",
   "execution_count": 64,
   "id": "463bb80a",
   "metadata": {},
   "outputs": [
    {
     "name": "stdout",
     "output_type": "stream",
     "text": [
      "Enter the Array: [12,16,11,13,30]\n",
      "The Sum of First and Last Elements of Array [12, 16, 11, 13, 30] is 42\n"
     ]
    }
   ],
   "source": [
    "def sumOfSplits():\n",
    "    in_arr = eval(input(\"Enter the Array: \"))\n",
    "    print(f\"The Sum of First and Last Elements of Array {in_arr} is {in_arr[0]+in_arr[-1]}\")\n",
    "    \n",
    "sumOfSplits()\n"
   ]
  },
  {
   "cell_type": "markdown",
   "id": "26e87956",
   "metadata": {},
   "source": [
    "#### 5.\tWrite a Python Program to check if given array is Monotonic?"
   ]
  },
  {
   "cell_type": "markdown",
   "id": "4ada34bc",
   "metadata": {},
   "source": [
    "**Ans:**"
   ]
  },
  {
   "cell_type": "code",
   "execution_count": 66,
   "id": "ff21dc58",
   "metadata": {},
   "outputs": [
    {
     "name": "stdout",
     "output_type": "stream",
     "text": [
      "Enter the Array: [10,13,14,9,18]\n",
      "Array [10, 13, 14, 9, 18] is Not Monotonic\n",
      "Enter the Array: [1,2,3,4,5]\n",
      "Array [1, 2, 3, 4, 5] is Monotonic\n"
     ]
    }
   ],
   "source": [
    "def checkMonotonic():\n",
    "    in_arr = eval(input(\"Enter the Array: \"))\n",
    "    if(all(in_arr[i]<=in_arr[i+1] for i in range(len(in_arr)-1)) or all(in_arr[i]>=in_arr[i+1] for i in range(len(in_arr)-1))):\n",
    "        print(f'Array {in_arr} is Monotonic')\n",
    "    else:\n",
    "        print(f'Array {in_arr} is Not Monotonic')\n",
    "\n",
    "checkMonotonic()\n",
    "checkMonotonic()"
   ]
  },
  {
   "cell_type": "code",
   "execution_count": null,
   "id": "b033cf52",
   "metadata": {},
   "outputs": [],
   "source": []
  }
 ],
 "metadata": {
  "kernelspec": {
   "display_name": "Python 3 (ipykernel)",
   "language": "python",
   "name": "python3"
  },
  "language_info": {
   "codemirror_mode": {
    "name": "ipython",
    "version": 3
   },
   "file_extension": ".py",
   "mimetype": "text/x-python",
   "name": "python",
   "nbconvert_exporter": "python",
   "pygments_lexer": "ipython3",
   "version": "3.9.12"
  }
 },
 "nbformat": 4,
 "nbformat_minor": 5
}
