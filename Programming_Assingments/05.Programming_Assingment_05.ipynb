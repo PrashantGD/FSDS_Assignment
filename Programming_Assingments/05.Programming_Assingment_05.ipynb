{
 "cells": [
  {
   "cell_type": "markdown",
   "id": "99b21a04",
   "metadata": {},
   "source": [
    "#### 1.\tWrite a Python Program to Find LCM?"
   ]
  },
  {
   "cell_type": "markdown",
   "id": "e939cd9d",
   "metadata": {},
   "source": [
    "**Ans:**"
   ]
  },
  {
   "cell_type": "code",
   "execution_count": 5,
   "id": "e59e8a10",
   "metadata": {},
   "outputs": [
    {
     "data": {
      "text/plain": [
       "30"
      ]
     },
     "execution_count": 5,
     "metadata": {},
     "output_type": "execute_result"
    }
   ],
   "source": [
    "def find_lcm(a,b):\n",
    "    if a > b:\n",
    "        high = a\n",
    "    else:\n",
    "        high = b\n",
    "    \n",
    "    while True:\n",
    "        if (high %a ==0) and (high % b ==0):\n",
    "            break\n",
    "        else:\n",
    "            high+= 1\n",
    "    \n",
    "    return high\n",
    "\n",
    "find_lcm(6,15)"
   ]
  },
  {
   "cell_type": "markdown",
   "id": "430d6f55",
   "metadata": {},
   "source": [
    "#### 2.\tWrite a Python Program to Find HCF?"
   ]
  },
  {
   "cell_type": "markdown",
   "id": "becf715a",
   "metadata": {},
   "source": [
    "**Ans:**"
   ]
  },
  {
   "cell_type": "code",
   "execution_count": 8,
   "id": "0fcdbcdf",
   "metadata": {},
   "outputs": [
    {
     "data": {
      "text/plain": [
       "1"
      ]
     },
     "execution_count": 8,
     "metadata": {},
     "output_type": "execute_result"
    }
   ],
   "source": [
    "def find_hcf(a,b):\n",
    "    if a > b:\n",
    "        low = b\n",
    "    else:\n",
    "        low = a\n",
    "    for i in range(1, low+1):\n",
    "        if(a%i==0) and (b%i ==0):\n",
    "            hcf = i\n",
    "    return hcf\n",
    "\n",
    "find_hcf(53,33)"
   ]
  },
  {
   "cell_type": "markdown",
   "id": "c9a0005e",
   "metadata": {},
   "source": [
    "#### 3.\tWrite a Python Program to Convert Decimal to Binary, Octal and Hexadecimal?"
   ]
  },
  {
   "cell_type": "markdown",
   "id": "f52cfb25",
   "metadata": {},
   "source": [
    "**Ans:**"
   ]
  },
  {
   "cell_type": "code",
   "execution_count": 9,
   "id": "dd0c2ee9",
   "metadata": {},
   "outputs": [],
   "source": [
    "def conversion(num):\n",
    "    print(\"Binary:      \", bin(num))\n",
    "    print(\"Octal:       \", oct(num))\n",
    "    print(\"Hexadecimal: \", hex(num))"
   ]
  },
  {
   "cell_type": "code",
   "execution_count": 11,
   "id": "55e667a0",
   "metadata": {},
   "outputs": [
    {
     "name": "stdout",
     "output_type": "stream",
     "text": [
      "Binary:       0b1111011\n",
      "Octal:        0o173\n",
      "Hexadecimal:  0x7b\n"
     ]
    }
   ],
   "source": [
    "conversion(123)"
   ]
  },
  {
   "cell_type": "markdown",
   "id": "491a9309",
   "metadata": {},
   "source": [
    "#### 4.\tWrite a Python Program To Find ASCII value of a character?"
   ]
  },
  {
   "cell_type": "markdown",
   "id": "d825563e",
   "metadata": {},
   "source": [
    "**Ans:**"
   ]
  },
  {
   "cell_type": "code",
   "execution_count": 20,
   "id": "6aa17c63",
   "metadata": {},
   "outputs": [
    {
     "name": "stdout",
     "output_type": "stream",
     "text": [
      "Enter a Character: P\n",
      "Ascii Character of P is 80\n"
     ]
    }
   ],
   "source": [
    "def charToAscii():\n",
    "    char = input('Enter a Character: ')\n",
    "    if len(char) > 1:\n",
    "        print('Please Enter a Single Character')\n",
    "    else:\n",
    "        print(f'Ascii Character of {char} is {ord(char)}')\n",
    "\n",
    "charToAscii()"
   ]
  },
  {
   "cell_type": "markdown",
   "id": "c49756e8",
   "metadata": {},
   "source": [
    "#### 5.\tWrite a Python Program to Make a Simple Calculator with 4 basic mathematical operations?"
   ]
  },
  {
   "cell_type": "markdown",
   "id": "aea29701",
   "metadata": {},
   "source": [
    "**Ans:**"
   ]
  },
  {
   "cell_type": "code",
   "execution_count": 22,
   "id": "f5face07",
   "metadata": {},
   "outputs": [
    {
     "name": "stdout",
     "output_type": "stream",
     "text": [
      "Select a Arithmetic Operation:         \n",
      "1.Addition(+)        \n",
      "2.Division(-)        \n",
      "2.Multiplication(*)        \n",
      "4.Division(/)        \n",
      "3.Stop(0)\n",
      "\n",
      "Enter a arithmetic operation -> 1\n",
      "Please enter a valid operator\n",
      "Enter a arithmetic operation -> -8\n",
      "Please enter a valid operator\n",
      "Enter a arithmetic operation -> -8\n",
      "Please enter a valid operator\n",
      "Enter a arithmetic operation -> +\n",
      "\n",
      "Enter 1st Number: -8\n",
      "Enter 2nd Number: -16\n",
      "-8+-16=-24\n",
      "\n",
      "Enter a arithmetic operation -> 0\n",
      "Program Stopped successfully\n"
     ]
    }
   ],
   "source": [
    "import operator\n",
    "\n",
    "ops = { \"+\": operator.add, \"-\": operator.sub, \"*\":operator.mul, \"/\":operator.truediv } \n",
    "\n",
    "print('Select a Arithmetic Operation: \\\n",
    "        \\n1.Addition(+)\\\n",
    "        \\n2.Division(-)\\\n",
    "        \\n2.Multiplication(*)\\\n",
    "        \\n4.Division(/)\\\n",
    "        \\n3.Stop(0)\\n')\n",
    "   \n",
    "\n",
    "while True:\n",
    "    operator = input('Enter a arithmetic operation -> ')\n",
    "    if operator == '0':\n",
    "        print(\"Program Stopped successfully\")\n",
    "        break\n",
    "    elif operator not in ['+','-','*','/']:\n",
    "        print(\"Please enter a valid operator\")\n",
    "    else:\n",
    "        num_1 = int(input('\\nEnter 1st Number: '))\n",
    "        num_2 = int(input('Enter 2nd Number: '))\n",
    "        print(f'{num_1}{operator}{num_2}={ops[operator](num_1,num_2)}\\n')"
   ]
  }
 ],
 "metadata": {
  "kernelspec": {
   "display_name": "Python 3 (ipykernel)",
   "language": "python",
   "name": "python3"
  },
  "language_info": {
   "codemirror_mode": {
    "name": "ipython",
    "version": 3
   },
   "file_extension": ".py",
   "mimetype": "text/x-python",
   "name": "python",
   "nbconvert_exporter": "python",
   "pygments_lexer": "ipython3",
   "version": "3.9.12"
  }
 },
 "nbformat": 4,
 "nbformat_minor": 5
}
