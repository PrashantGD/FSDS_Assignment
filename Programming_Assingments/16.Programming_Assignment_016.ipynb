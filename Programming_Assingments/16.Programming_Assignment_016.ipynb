{
 "cells": [
  {
   "cell_type": "markdown",
   "id": "26a32b08",
   "metadata": {},
   "source": [
    "#### 1. Write a function that stutters a word as if someone is struggling to read it. The first two letters are repeated twice with an ellipsis ... and space after each, and then the word is pronounced with a question mark ?.\n",
    "Examples\n",
    "\n",
    "stutter(\"incredible\") ➞ \"in... in... incredible?\"\n",
    "\n",
    "\n",
    "stutter(\"enthusiastic\") ➞ \"en... en... enthusiastic?\"\n",
    "\n",
    "\n",
    "stutter(\"outstanding\") ➞ \"ou... ou... outstanding?\"\n",
    "\n",
    "\n",
    "Hint :- Assume all input is in lower case and at least two characters long."
   ]
  },
  {
   "cell_type": "markdown",
   "id": "f2a670c7",
   "metadata": {},
   "source": [
    "**Ans:**"
   ]
  },
  {
   "cell_type": "code",
   "execution_count": 2,
   "id": "3f136c83",
   "metadata": {},
   "outputs": [
    {
     "name": "stdout",
     "output_type": "stream",
     "text": [
      "in...in...incredible?\n",
      "en...en...enthusiastic?\n",
      "ou...ou...outstanding?\n"
     ]
    }
   ],
   "source": [
    "def stutter(word:str):\n",
    "    print(f'{word[:2]}...{word[:2]}...{word}?')\n",
    "    \n",
    "stutter('incredible') \n",
    "stutter('enthusiastic') \n",
    "stutter('outstanding') "
   ]
  },
  {
   "cell_type": "markdown",
   "id": "5af76135",
   "metadata": {},
   "source": [
    "#### 2.Create a function that takes an angle in radians and returns the corresponding angle in degrees rounded to one decimal place.\n",
    "Examples\n",
    "\n",
    "radians_to_degrees(1) ➞ 57.3\n",
    "\n",
    "radians_to_degrees(20) ➞ 1145.9\n",
    "\n",
    "radians_to_degrees(50) ➞ 2864.8\n",
    "\n"
   ]
  },
  {
   "cell_type": "markdown",
   "id": "be49a866",
   "metadata": {},
   "source": [
    "**Ans:**"
   ]
  },
  {
   "cell_type": "code",
   "execution_count": 7,
   "id": "18627287",
   "metadata": {},
   "outputs": [
    {
     "name": "stdout",
     "output_type": "stream",
     "text": [
      "57.3\n",
      "1145.9\n",
      "2864.8\n"
     ]
    }
   ],
   "source": [
    "def rad_to_degree(rads):\n",
    "    return round(57.295779513 * rads,1)\n",
    "\n",
    "\n",
    "print(rad_to_degree(1))\n",
    "print(rad_to_degree(20))\n",
    "print(rad_to_degree(50))"
   ]
  },
  {
   "cell_type": "markdown",
   "id": "d523b580",
   "metadata": {},
   "source": [
    "#### 3. In this challenge, establish if a given integer num is a Curzon number. If 1 plus 2 elevated to num is exactly divisible by 1 plus 2 multiplied by num, then num is a Curzon number.\n",
    "#### Given a non-negative integer num, implement a function that returns True if num is a Curzon number, or False otherwise."
   ]
  },
  {
   "cell_type": "markdown",
   "id": "06926d90",
   "metadata": {},
   "source": [
    "Examples\n",
    "is_curzon(5) ➞ True\n",
    "\n",
    "`# 2 ** 5 + 1 = 33`\n",
    "\n",
    "`# 2 * 5 + 1 = 11`\n",
    "\n",
    "`# 33 is a multiple of 11`\n",
    "\n",
    "is_curzon(10) ➞ False\n",
    "\n",
    "`# 2 ** 10 + 1 = 1025`\n",
    "\n",
    "`# 2 * 10 + 1 = 21`\n",
    "\n",
    "`# 1025 is not a multiple of 21`\n",
    "\n",
    "is_curzon(14) ➞ True\n",
    "\n",
    "`# 2 ** 14 + 1 = 16385`\n",
    "\n",
    "`# 2 * 14 + 1 = 29`\n",
    "\n",
    "`# 16385 is a multiple of 29`"
   ]
  },
  {
   "cell_type": "markdown",
   "id": "8abf60f7",
   "metadata": {},
   "source": [
    "**Ans:**"
   ]
  },
  {
   "cell_type": "code",
   "execution_count": 9,
   "id": "d6942c2e",
   "metadata": {},
   "outputs": [
    {
     "name": "stdout",
     "output_type": "stream",
     "text": [
      "True\n",
      "False\n",
      "True\n"
     ]
    }
   ],
   "source": [
    "def is_curzon(n):\n",
    "    if(1+2 ** n) % (1 + 2*n) == 0:\n",
    "        return True\n",
    "    \n",
    "    return False\n",
    "\n",
    "print(is_curzon(5))\n",
    "print(is_curzon(10))\n",
    "print(is_curzon(14))"
   ]
  },
  {
   "cell_type": "markdown",
   "id": "4e66001a",
   "metadata": {},
   "source": [
    "#### 4.Given the side length x find the area of a hexagon."
   ]
  },
  {
   "cell_type": "markdown",
   "id": "21024972",
   "metadata": {},
   "source": [
    "**Ans:**"
   ]
  },
  {
   "cell_type": "code",
   "execution_count": 10,
   "id": "be2f4cff",
   "metadata": {},
   "outputs": [
    {
     "name": "stdout",
     "output_type": "stream",
     "text": [
      "2.6\n",
      "10.4\n",
      "23.4\n"
     ]
    }
   ],
   "source": [
    "import math\n",
    "\n",
    "def area_of_hexagon(length):\n",
    "    area = 3 * math.sqrt(3) * 0.5 * length * length\n",
    "    return round(area,1)\n",
    "\n",
    "print(area_of_hexagon(1))\n",
    "print(area_of_hexagon(2))\n",
    "print(area_of_hexagon(3))"
   ]
  },
  {
   "cell_type": "markdown",
   "id": "6e57b719",
   "metadata": {},
   "source": [
    "#### Create a function that returns a base-2 (binary) representation of a base-10 (decimal) string number. To convert is simple: ((2) means base-2 and (10) means base-10) 010101001(2) = 1 + 8 + 32 + 128.\n",
    "\n",
    "#### Going from right to left, the value of the most right bit is 1, now from that every bit to the left will be x2 the value, value of an 8 bit binary numbers are (256, 128, 64, 32, 16, 8, 4, 2, 1)."
   ]
  },
  {
   "cell_type": "markdown",
   "id": "1423c941",
   "metadata": {},
   "source": [
    "Examples\n",
    "\n",
    "binary(1) ➞ \"1\"\n",
    "\n",
    "`# 1*1 = 1`\n",
    "\n",
    "binary(5) ➞ \"101\"\n",
    "\n",
    "`# 1*1 + 1*4 = 5`\n",
    "\n",
    "binary(10) ➞ \"1010\"\n",
    "\n",
    "`# 1*2 + 1*8 = 10`"
   ]
  },
  {
   "cell_type": "markdown",
   "id": "1fa86a47",
   "metadata": {},
   "source": [
    "**Ans:**"
   ]
  },
  {
   "cell_type": "code",
   "execution_count": 14,
   "id": "8608571f",
   "metadata": {},
   "outputs": [
    {
     "name": "stdout",
     "output_type": "stream",
     "text": [
      "1\n",
      "101\n",
      "1010\n"
     ]
    }
   ],
   "source": [
    "def binary(n):\n",
    "    return \"{0:b}\".format(int(n))\n",
    "\n",
    "print(binary(1))\n",
    "print(binary(5))\n",
    "print(binary(10))"
   ]
  }
 ],
 "metadata": {
  "kernelspec": {
   "display_name": "Python 3 (ipykernel)",
   "language": "python",
   "name": "python3"
  },
  "language_info": {
   "codemirror_mode": {
    "name": "ipython",
    "version": 3
   },
   "file_extension": ".py",
   "mimetype": "text/x-python",
   "name": "python",
   "nbconvert_exporter": "python",
   "pygments_lexer": "ipython3",
   "version": "3.9.12"
  }
 },
 "nbformat": 4,
 "nbformat_minor": 5
}
